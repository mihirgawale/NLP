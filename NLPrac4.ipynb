{
  "nbformat": 4,
  "nbformat_minor": 0,
  "metadata": {
    "colab": {
      "provenance": []
    },
    "kernelspec": {
      "name": "python3",
      "display_name": "Python 3"
    },
    "language_info": {
      "name": "python"
    }
  },
  "cells": [
    {
      "cell_type": "code",
      "execution_count": 1,
      "metadata": {
        "colab": {
          "base_uri": "https://localhost:8080/"
        },
        "id": "THebyJzM2eFK",
        "outputId": "5d705483-ec4e-478a-f69c-6ac029b5ba5e"
      },
      "outputs": [
        {
          "output_type": "stream",
          "name": "stdout",
          "text": [
            "Collecting pymupdf\n",
            "  Downloading PyMuPDF-1.24.10-cp310-none-manylinux2014_x86_64.whl.metadata (3.4 kB)\n",
            "Collecting PyMuPDFb==1.24.10 (from pymupdf)\n",
            "  Downloading PyMuPDFb-1.24.10-py3-none-manylinux2014_x86_64.manylinux_2_17_x86_64.whl.metadata (1.4 kB)\n",
            "Downloading PyMuPDF-1.24.10-cp310-none-manylinux2014_x86_64.whl (3.5 MB)\n",
            "\u001b[2K   \u001b[90m━━━━━━━━━━━━━━━━━━━━━━━━━━━━━━━━━━━━━━━━\u001b[0m \u001b[32m3.5/3.5 MB\u001b[0m \u001b[31m18.2 MB/s\u001b[0m eta \u001b[36m0:00:00\u001b[0m\n",
            "\u001b[?25hDownloading PyMuPDFb-1.24.10-py3-none-manylinux2014_x86_64.manylinux_2_17_x86_64.whl (15.9 MB)\n",
            "\u001b[2K   \u001b[90m━━━━━━━━━━━━━━━━━━━━━━━━━━━━━━━━━━━━━━━━\u001b[0m \u001b[32m15.9/15.9 MB\u001b[0m \u001b[31m22.3 MB/s\u001b[0m eta \u001b[36m0:00:00\u001b[0m\n",
            "\u001b[?25hInstalling collected packages: PyMuPDFb, pymupdf\n",
            "Successfully installed PyMuPDFb-1.24.10 pymupdf-1.24.10\n"
          ]
        }
      ],
      "source": [
        "!pip install pymupdf"
      ]
    },
    {
      "cell_type": "code",
      "source": [
        "import fitz\n",
        "import spacy\n",
        "\n",
        "# Load spaCy model for NLP\n",
        "nlp = spacy.load(\"en_core_web_sm\")"
      ],
      "metadata": {
        "id": "PvGXskcT2roM"
      },
      "execution_count": 2,
      "outputs": []
    },
    {
      "cell_type": "code",
      "source": [
        "from google.colab import files\n",
        "uploaded = files.upload()\n",
        "for fn in uploaded.keys():\n",
        "  print('User uploaded file \"{name}\" with length {length} bytes'.format(\n",
        "      name=fn, length=len(uploaded[fn])))"
      ],
      "metadata": {
        "colab": {
          "base_uri": "https://localhost:8080/",
          "height": 90
        },
        "id": "xiZgIzZ63zI_",
        "outputId": "753c1f02-444f-4d5c-d22c-ad97e93bdbc9"
      },
      "execution_count": 12,
      "outputs": [
        {
          "output_type": "display_data",
          "data": {
            "text/plain": [
              "<IPython.core.display.HTML object>"
            ],
            "text/html": [
              "\n",
              "     <input type=\"file\" id=\"files-885fc6bf-35c2-4bf1-96ee-d2d9dc32d780\" name=\"files[]\" multiple disabled\n",
              "        style=\"border:none\" />\n",
              "     <output id=\"result-885fc6bf-35c2-4bf1-96ee-d2d9dc32d780\">\n",
              "      Upload widget is only available when the cell has been executed in the\n",
              "      current browser session. Please rerun this cell to enable.\n",
              "      </output>\n",
              "      <script>// Copyright 2017 Google LLC\n",
              "//\n",
              "// Licensed under the Apache License, Version 2.0 (the \"License\");\n",
              "// you may not use this file except in compliance with the License.\n",
              "// You may obtain a copy of the License at\n",
              "//\n",
              "//      http://www.apache.org/licenses/LICENSE-2.0\n",
              "//\n",
              "// Unless required by applicable law or agreed to in writing, software\n",
              "// distributed under the License is distributed on an \"AS IS\" BASIS,\n",
              "// WITHOUT WARRANTIES OR CONDITIONS OF ANY KIND, either express or implied.\n",
              "// See the License for the specific language governing permissions and\n",
              "// limitations under the License.\n",
              "\n",
              "/**\n",
              " * @fileoverview Helpers for google.colab Python module.\n",
              " */\n",
              "(function(scope) {\n",
              "function span(text, styleAttributes = {}) {\n",
              "  const element = document.createElement('span');\n",
              "  element.textContent = text;\n",
              "  for (const key of Object.keys(styleAttributes)) {\n",
              "    element.style[key] = styleAttributes[key];\n",
              "  }\n",
              "  return element;\n",
              "}\n",
              "\n",
              "// Max number of bytes which will be uploaded at a time.\n",
              "const MAX_PAYLOAD_SIZE = 100 * 1024;\n",
              "\n",
              "function _uploadFiles(inputId, outputId) {\n",
              "  const steps = uploadFilesStep(inputId, outputId);\n",
              "  const outputElement = document.getElementById(outputId);\n",
              "  // Cache steps on the outputElement to make it available for the next call\n",
              "  // to uploadFilesContinue from Python.\n",
              "  outputElement.steps = steps;\n",
              "\n",
              "  return _uploadFilesContinue(outputId);\n",
              "}\n",
              "\n",
              "// This is roughly an async generator (not supported in the browser yet),\n",
              "// where there are multiple asynchronous steps and the Python side is going\n",
              "// to poll for completion of each step.\n",
              "// This uses a Promise to block the python side on completion of each step,\n",
              "// then passes the result of the previous step as the input to the next step.\n",
              "function _uploadFilesContinue(outputId) {\n",
              "  const outputElement = document.getElementById(outputId);\n",
              "  const steps = outputElement.steps;\n",
              "\n",
              "  const next = steps.next(outputElement.lastPromiseValue);\n",
              "  return Promise.resolve(next.value.promise).then((value) => {\n",
              "    // Cache the last promise value to make it available to the next\n",
              "    // step of the generator.\n",
              "    outputElement.lastPromiseValue = value;\n",
              "    return next.value.response;\n",
              "  });\n",
              "}\n",
              "\n",
              "/**\n",
              " * Generator function which is called between each async step of the upload\n",
              " * process.\n",
              " * @param {string} inputId Element ID of the input file picker element.\n",
              " * @param {string} outputId Element ID of the output display.\n",
              " * @return {!Iterable<!Object>} Iterable of next steps.\n",
              " */\n",
              "function* uploadFilesStep(inputId, outputId) {\n",
              "  const inputElement = document.getElementById(inputId);\n",
              "  inputElement.disabled = false;\n",
              "\n",
              "  const outputElement = document.getElementById(outputId);\n",
              "  outputElement.innerHTML = '';\n",
              "\n",
              "  const pickedPromise = new Promise((resolve) => {\n",
              "    inputElement.addEventListener('change', (e) => {\n",
              "      resolve(e.target.files);\n",
              "    });\n",
              "  });\n",
              "\n",
              "  const cancel = document.createElement('button');\n",
              "  inputElement.parentElement.appendChild(cancel);\n",
              "  cancel.textContent = 'Cancel upload';\n",
              "  const cancelPromise = new Promise((resolve) => {\n",
              "    cancel.onclick = () => {\n",
              "      resolve(null);\n",
              "    };\n",
              "  });\n",
              "\n",
              "  // Wait for the user to pick the files.\n",
              "  const files = yield {\n",
              "    promise: Promise.race([pickedPromise, cancelPromise]),\n",
              "    response: {\n",
              "      action: 'starting',\n",
              "    }\n",
              "  };\n",
              "\n",
              "  cancel.remove();\n",
              "\n",
              "  // Disable the input element since further picks are not allowed.\n",
              "  inputElement.disabled = true;\n",
              "\n",
              "  if (!files) {\n",
              "    return {\n",
              "      response: {\n",
              "        action: 'complete',\n",
              "      }\n",
              "    };\n",
              "  }\n",
              "\n",
              "  for (const file of files) {\n",
              "    const li = document.createElement('li');\n",
              "    li.append(span(file.name, {fontWeight: 'bold'}));\n",
              "    li.append(span(\n",
              "        `(${file.type || 'n/a'}) - ${file.size} bytes, ` +\n",
              "        `last modified: ${\n",
              "            file.lastModifiedDate ? file.lastModifiedDate.toLocaleDateString() :\n",
              "                                    'n/a'} - `));\n",
              "    const percent = span('0% done');\n",
              "    li.appendChild(percent);\n",
              "\n",
              "    outputElement.appendChild(li);\n",
              "\n",
              "    const fileDataPromise = new Promise((resolve) => {\n",
              "      const reader = new FileReader();\n",
              "      reader.onload = (e) => {\n",
              "        resolve(e.target.result);\n",
              "      };\n",
              "      reader.readAsArrayBuffer(file);\n",
              "    });\n",
              "    // Wait for the data to be ready.\n",
              "    let fileData = yield {\n",
              "      promise: fileDataPromise,\n",
              "      response: {\n",
              "        action: 'continue',\n",
              "      }\n",
              "    };\n",
              "\n",
              "    // Use a chunked sending to avoid message size limits. See b/62115660.\n",
              "    let position = 0;\n",
              "    do {\n",
              "      const length = Math.min(fileData.byteLength - position, MAX_PAYLOAD_SIZE);\n",
              "      const chunk = new Uint8Array(fileData, position, length);\n",
              "      position += length;\n",
              "\n",
              "      const base64 = btoa(String.fromCharCode.apply(null, chunk));\n",
              "      yield {\n",
              "        response: {\n",
              "          action: 'append',\n",
              "          file: file.name,\n",
              "          data: base64,\n",
              "        },\n",
              "      };\n",
              "\n",
              "      let percentDone = fileData.byteLength === 0 ?\n",
              "          100 :\n",
              "          Math.round((position / fileData.byteLength) * 100);\n",
              "      percent.textContent = `${percentDone}% done`;\n",
              "\n",
              "    } while (position < fileData.byteLength);\n",
              "  }\n",
              "\n",
              "  // All done.\n",
              "  yield {\n",
              "    response: {\n",
              "      action: 'complete',\n",
              "    }\n",
              "  };\n",
              "}\n",
              "\n",
              "scope.google = scope.google || {};\n",
              "scope.google.colab = scope.google.colab || {};\n",
              "scope.google.colab._files = {\n",
              "  _uploadFiles,\n",
              "  _uploadFilesContinue,\n",
              "};\n",
              "})(self);\n",
              "</script> "
            ]
          },
          "metadata": {}
        },
        {
          "output_type": "stream",
          "name": "stdout",
          "text": [
            "Saving Chaitanya_Mandale_Resume.pdf to Chaitanya_Mandale_Resume.pdf\n",
            "User uploaded file \"Chaitanya_Mandale_Resume.pdf\" with length 120821 bytes\n"
          ]
        }
      ]
    },
    {
      "cell_type": "code",
      "source": [
        "# List of relevant technical skills\n",
        "skills_list = [\n",
        "    \"JavaScript\", \"Solidity\", \"C++\", \"Python\", \"React\", \"Next.js\", \"Node.js\", \"Prisma\",\n",
        "    \"Ganache\", \"Docker\", \"Kubernetes\", \"AWS\", \"Kafka\", \"Monorepos\", \"Ethereum\",\n",
        "    \"PostgreSQL\", \"MongoDB\", \"SQL\", \"Git\", \"Cloud Computing\", \"DevOps\",\n",
        "    \"Agile Methodology\", \"HTML\", \"CSS\", \"TypeScript\", \"GraphQL\", \"REST APIs\",\n",
        "    \"Jenkins\", \"CircleCI\", \"Terraform\", \"Ansible\", \"Redis\", \"Prometheus\",\n",
        "    \"Grafana\", \"WebSockets\", \"gRPC\", \"WebRTC\", \"Jest\", \"Mocha\", \"Truffle\",\n",
        "    \"Hardhat\", \"Azure\", \"Google Cloud Platform (GCP)\"\n",
        "]"
      ],
      "metadata": {
        "id": "E2E6lgeR2rk9"
      },
      "execution_count": 3,
      "outputs": []
    },
    {
      "cell_type": "code",
      "source": [
        "# Function to extract text from PDF\n",
        "def extract_text_from_pdf(pdf_path):\n",
        "    with fitz.open(pdf_path) as pdf_doc:\n",
        "        text = \"\"\n",
        "        for page_num in range(pdf_doc.page_count):\n",
        "            page = pdf_doc.load_page(page_num)\n",
        "            text += page.get_text()\n",
        "    return text"
      ],
      "metadata": {
        "id": "JyTuYPmv2rgp"
      },
      "execution_count": 4,
      "outputs": []
    },
    {
      "cell_type": "code",
      "source": [
        "# Function to extract the name\n",
        "def extract_name(doc):\n",
        "    for ent in doc.ents:\n",
        "        if ent.label_ == \"PERSON\":\n",
        "            return ent.text\n",
        "    return \"Name not found\""
      ],
      "metadata": {
        "id": "fw5D-Jt42rdb"
      },
      "execution_count": 5,
      "outputs": []
    },
    {
      "cell_type": "code",
      "source": [
        "# Function to extract skills from text\n",
        "def extract_skills(text):\n",
        "    skills_found = []\n",
        "    text_lower = text.lower()\n",
        "    for skill in skills_list:\n",
        "        if skill.lower() in text_lower:\n",
        "            skills_found.append(skill)\n",
        "    return skills_found"
      ],
      "metadata": {
        "id": "QKhZCSlg2rWx"
      },
      "execution_count": 6,
      "outputs": []
    },
    {
      "cell_type": "code",
      "source": [
        "# Function to extract experience\n",
        "def extract_experience(text):\n",
        "    lines = text.split(\"\\n\")\n",
        "    experience_titles = []\n",
        "    in_section = False\n",
        "\n",
        "    for i, line in enumerate(lines):\n",
        "        line = line.strip()\n",
        "        if any(term in line.lower() for term in [\"projects\", \"courses\", \"work\"]):\n",
        "            in_section = True\n",
        "            continue\n",
        "\n",
        "        if in_section:\n",
        "            if \"|\" in line:  # Experience usually have the format: TITLE | Description\n",
        "                title = line.split(\"|\")[0].strip()\n",
        "                experience_titles.append(title)\n",
        "            elif line.startswith(\"•\"):  # Bullet point\n",
        "                title = line[1:].strip()  # Remove bullet point\n",
        "                experience_titles.append(title)\n",
        "\n",
        "    return experience_titles\n"
      ],
      "metadata": {
        "id": "Kc2HfNxM2rT-"
      },
      "execution_count": 7,
      "outputs": []
    },
    {
      "cell_type": "code",
      "source": [
        "def extract_resume_info(pdf_path):\n",
        "    # Extract text from PDF\n",
        "    resume_text = extract_text_from_pdf(pdf_path)\n",
        "\n",
        "    # Process text with spaCy NLP\n",
        "    doc = nlp(resume_text)\n",
        "\n",
        "    # Extract relevant info\n",
        "    name = extract_name(doc)\n",
        "    skills = extract_skills(resume_text)\n",
        "    experience = extract_experience(resume_text)\n",
        "\n",
        "    return {\n",
        "        \"Name\": name,\n",
        "        \"Skills\": skills,\n",
        "        \"Experience\": experience\n",
        "    }"
      ],
      "metadata": {
        "id": "MN5ttQYp2q01"
      },
      "execution_count": 9,
      "outputs": []
    },
    {
      "cell_type": "code",
      "source": [
        "pdf_path = \"/content/Chaitanya_Mandale_Resume.pdf\"\n",
        "resume_info = extract_resume_info(pdf_path)\n",
        "print(\"Name:\", resume_info[\"Name\"])\n",
        "print(\"\\n\\n\")\n",
        "print(\"Skills:\", \", \".join(resume_info[\"Skills\"]))\n",
        "print(\"\\n\\n\")\n",
        "print(\"Experience:\\n\", \"\\n\".join(resume_info[\"Experience\"]))\n"
      ],
      "metadata": {
        "colab": {
          "base_uri": "https://localhost:8080/"
        },
        "id": "HnmNspMA3Tai",
        "outputId": "8e1b6606-4038-4f09-ca37-99852423aedd"
      },
      "execution_count": 16,
      "outputs": [
        {
          "output_type": "stream",
          "name": "stdout",
          "text": [
            "Name: Chaitanya Mandale\n",
            "\n",
            "\n",
            "\n",
            "Skills: JavaScript, Solidity, C++, React, Next.js, Node.js, Prisma, Ganache, Docker, Kubernetes, AWS, Kafka, Monorepos, Ethereum, PostgreSQL, MongoDB, SQL, Git, DevOps, HTML, CSS, TypeScript, Redis, Prometheus, Grafana, WebSockets, gRPC, WebRTC\n",
            "\n",
            "\n",
            "\n",
            "Experience:\n",
            " EXCHANGIFY\n",
            "Developed a scalable, real-time asset exchange platform using modern web technologies and distributed systems\n",
            "Designed for high throughput and low latency, achieving sub-10 ms order processing times.\n",
            "Ensured data consistency across real-time updates and database persistence.\n",
            "Implemented a 6-core-services microservices architecture for improved scalability and fault tolerance.\n",
            "JOBIFY\n",
            "Developed a comprehensive job application management system using the MERN (MongoDB, Express.js, React,\n",
            "Achieved secure user authentication and authorization for personalized tracking of job applications.\n",
            "Designed an intuitive user interface with features including pagination, data visualization (bar and area charts), and\n",
            "Built eﬃcient server state management, reducing database calls by up to 60% through smart caching; accomplished\n",
            "The Complete 2023 Web Development Bootcamp By Angela Yu\n",
            "Acquired foundational web development skills, including HTML, CSS, JavaScript.\n",
            "Ethereum Blockchain Developer Bootcamp With Solidity By Thomas Weisner\n",
            "Mastered Ethereum smart contract development with Solidity, including blockchain fundamentals and dApp\n",
            "Gained proﬁciency in blockchain tools: Truﬄe for contract deployment and Ganache for local Ethereum testing.\n",
            "Technical Writing\n",
            "Authored article on blockchain account abstraction for ‘Byte’, the Computer Engineering department’s newsletter\n"
          ]
        }
      ]
    }
  ]
}