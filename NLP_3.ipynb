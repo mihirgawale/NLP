{
  "cells": [
    {
      "cell_type": "markdown",
      "metadata": {
        "id": "y8oKEGt97amo"
      },
      "source": [
        "Name: Mihir Gawale\n",
        "Roll no. 21102B0038\n",
        "BE CMPN-B\n",
        "Batch 2"
      ]
    },
    {
      "cell_type": "code",
      "execution_count": 1,
      "metadata": {
        "id": "0M38pSRv4379"
      },
      "outputs": [],
      "source": [
        "import nltk"
      ]
    },
    {
      "cell_type": "code",
      "execution_count": 2,
      "metadata": {
        "colab": {
          "base_uri": "https://localhost:8080/",
          "height": 0
        },
        "id": "WZoiY4_N9zaF",
        "outputId": "03f00760-5d5f-47e6-9a20-8d57c074edda"
      },
      "outputs": [
        {
          "name": "stderr",
          "output_type": "stream",
          "text": [
            "[nltk_data] Downloading package universal_tagset to /root/nltk_data...\n",
            "[nltk_data]   Unzipping taggers/universal_tagset.zip.\n"
          ]
        },
        {
          "data": {
            "text/plain": [
              "True"
            ]
          },
          "execution_count": 2,
          "metadata": {},
          "output_type": "execute_result"
        }
      ],
      "source": [
        "nltk.download('universal_tagset')"
      ]
    },
    {
      "cell_type": "code",
      "execution_count": 3,
      "metadata": {
        "colab": {
          "base_uri": "https://localhost:8080/",
          "height": 0
        },
        "id": "aZEz1v3a-Rlq",
        "outputId": "d429b7d6-357e-4aa1-b814-942f91bb1b6b"
      },
      "outputs": [
        {
          "name": "stderr",
          "output_type": "stream",
          "text": [
            "[nltk_data] Downloading package treebank to /root/nltk_data...\n",
            "[nltk_data]   Unzipping corpora/treebank.zip.\n"
          ]
        },
        {
          "data": {
            "text/plain": [
              "True"
            ]
          },
          "execution_count": 3,
          "metadata": {},
          "output_type": "execute_result"
        }
      ],
      "source": [
        "nltk.download('treebank')"
      ]
    },
    {
      "cell_type": "code",
      "execution_count": 4,
      "metadata": {
        "id": "i1ho0BjU_Uwi"
      },
      "outputs": [],
      "source": [
        "corpus=\"Martin, Justin can watch will.Spot will watch Martin.Will Justin spot Martin. Martin will pat Spot.\""
      ]
    },
    {
      "cell_type": "code",
      "execution_count": 5,
      "metadata": {
        "colab": {
          "base_uri": "https://localhost:8080/",
          "height": 0
        },
        "id": "TDhoJ_ge_Udh",
        "outputId": "51b6384f-0339-46cc-bc49-556fccb6aef2"
      },
      "outputs": [
        {
          "name": "stdout",
          "output_type": "stream",
          "text": [
            "Without punctuation string: Martin Justin can watch will.Spot will watch Martin.Will Justin spot Martin. Martin will pat Spot.\n"
          ]
        }
      ],
      "source": [
        "modified_corpus=\"\"\n",
        "modified_corpus = corpus.replace(',', '').replace('?', '')\n",
        "print('Without punctuation string:', modified_corpus)"
      ]
    },
    {
      "cell_type": "code",
      "execution_count": 6,
      "metadata": {
        "colab": {
          "base_uri": "https://localhost:8080/",
          "height": 0
        },
        "id": "imj6zZhKIH27",
        "outputId": "69567576-64be-463b-a0d8-80dff115e199"
      },
      "outputs": [
        {
          "name": "stdout",
          "output_type": "stream",
          "text": [
            "<s> Martin Justin can watch will </s> <s> Spot will watch Martin </s> <s> Will Justin spot Martin </s> <s> Martin will pat Spot </s>\n"
          ]
        }
      ],
      "source": [
        "modified_corpus2 = \"\"\n",
        "sentences = modified_corpus.split('.')\n",
        "for sentence in sentences:\n",
        "    sentence = sentence.strip()\n",
        "    if sentence:\n",
        "        modified_corpus2 += f\"<s> {sentence} </s> \"\n",
        "\n",
        "modified_corpus2 = modified_corpus2.strip()\n",
        "\n",
        "print(modified_corpus2)"
      ]
    },
    {
      "cell_type": "code",
      "execution_count": 7,
      "metadata": {
        "colab": {
          "base_uri": "https://localhost:8080/",
          "height": 0
        },
        "id": "bJfJfs63-7Ff",
        "outputId": "aeb0fd7a-f307-4cef-da31-8182eb58622c"
      },
      "outputs": [
        {
          "name": "stdout",
          "output_type": "stream",
          "text": [
            "\n",
            "Emission Matrix:\n",
            "               Justin         Will           Spot           pat            can            watch          Martin         spot           will           \n",
            "N              0.2222         0.0000         0.2222         0.0000         0.0000         0.0000         0.4444         0.0000         0.1111         \n",
            "M              0.0000         0.2500         0.0000         0.0000         0.2500         0.0000         0.0000         0.0000         0.5000         \n",
            "V              0.0000         0.0000         0.0000         0.2500         0.0000         0.5000         0.0000         0.2500         0.0000         \n",
            "<s>            0.0000         0.0000         0.0000         0.0000         0.0000         0.0000         0.0000         0.0000         0.0000         \n",
            "</s>           0.0000         0.0000         0.0000         0.0000         0.0000         0.0000         0.0000         0.0000         0.0000         \n",
            "\n",
            "Transition Matrix:\n",
            "               N              M              V              <s>            </s>           \n",
            "N              0.1111         0.3333         0.1111         0.0000         0.4444         \n",
            "M              0.2500         0.0000         0.7500         0.0000         0.0000         \n",
            "V              1.0000         0.0000         0.0000         0.0000         0.0000         \n",
            "<s>            0.7500         0.2500         0.0000         0.0000         0.0000         \n",
            "</s>           0.0000         0.0000         0.0000         0.0000         0.0000         \n",
            "prob of Justin and for N =  0.75 * 0.2222222222222222 * 1.0\n",
            "prob of Justin and for N =  0.16666666666666666\n",
            "prob of Justin and for M =  0.25 * 0 * 1.0\n",
            "prob of Justin and for M =  0.0\n",
            "prob of Justin and for V =  0 * 0 * 1.0\n",
            "prob of Justin and for V =  0.0\n",
            "prob of will and for N =  0.1111111111111111 * 0.1111111111111111 * 0.16666666666666666\n",
            "prob of will and for N =  0.0020576131687242796\n",
            "prob of will and for M =  0.3333333333333333 * 0.5 * 0.16666666666666666\n",
            "prob of will and for M =  0.027777777777777776\n",
            "prob of will and for V =  0.1111111111111111 * 0 * 0.16666666666666666\n",
            "prob of will and for V =  0.0\n",
            "prob of spot and for N =  0.25 * 0 * 0.027777777777777776\n",
            "prob of spot and for N =  0.0\n",
            "prob of spot and for M =  0 * 0 * 0.027777777777777776\n",
            "prob of spot and for M =  0.0\n",
            "prob of spot and for V =  0.75 * 0.25 * 0.027777777777777776\n",
            "prob of spot and for V =  0.005208333333333333\n",
            "prob of Will and for N =  1.0 * 0 * 0.005208333333333333\n",
            "prob of Will and for N =  0.0\n",
            "prob of Will and for M =  0 * 0.25 * 0.005208333333333333\n",
            "prob of Will and for M =  0.0\n",
            "prob of Will and for V =  0 * 0 * 0.005208333333333333\n",
            "prob of Will and for V =  0.0\n",
            "Sentence: Justin will spot Will\n",
            "Tags: N M V N\n"
          ]
        }
      ],
      "source": [
        "from collections import defaultdict\n",
        "\n",
        "tagged_sentences = [\n",
        "    [('Martin', 'N'), ('Justin', 'N'), ('can', 'M'), ('watch', 'V'), ('will', 'N')],\n",
        "    [('Spot', 'N'), ('will', 'M'), ('watch', 'V'), ('Martin', 'N')],\n",
        "    [('Will', 'M'), ('Justin', 'N'), ('spot', 'V'), ('Martin', 'N')],\n",
        "    [('Martin', 'N'), ('will', 'M'), ('pat', 'V'), ('Spot', 'N')]\n",
        "]\n",
        "\n",
        "emission_matrix = defaultdict(lambda: defaultdict(int))\n",
        "transition_matrix = defaultdict(lambda: defaultdict(int))\n",
        "\n",
        "for sentence in tagged_sentences:\n",
        "    previous_tag = '<s>'\n",
        "    for word, tag in sentence:\n",
        "        emission_matrix[tag][word] += 1\n",
        "\n",
        "        transition_matrix[previous_tag][tag] += 1\n",
        "\n",
        "        previous_tag = tag\n",
        "    transition_matrix[previous_tag]['</s>'] += 1\n",
        "\n",
        "def normalize_matrix(matrix):\n",
        "    normalized_matrix = {}\n",
        "    for from_state, to_states in matrix.items():\n",
        "        total = sum(to_states.values())\n",
        "        normalized_matrix[from_state] = {to_state: count / total for to_state, count in to_states.items()}\n",
        "    return normalized_matrix\n",
        "\n",
        "normalized_emission_matrix = normalize_matrix(emission_matrix)\n",
        "normalized_transition_matrix = normalize_matrix(transition_matrix)\n",
        "\n",
        "def print_matrix(matrix, row_labels, col_labels, title):\n",
        "    print(f\"\\n{title}:\")\n",
        "    print(f\"{'':15}\", end=\"\")\n",
        "    for col in col_labels:\n",
        "        print(f\"{col:15}\", end=\"\")\n",
        "    print()\n",
        "    for row in row_labels:\n",
        "        print(f\"{row:15}\", end=\"\")\n",
        "        for col in col_labels:\n",
        "            value = matrix.get(row, {}).get(col, 0)\n",
        "            print(f\"{value:<15.4f}\", end=\"\")\n",
        "        print()\n",
        "\n",
        "all_tags = list(set(tag for sentence in tagged_sentences for _, tag in sentence)) + ['<s>', '</s>']\n",
        "\n",
        "print_matrix(normalized_emission_matrix, all_tags,\n",
        "             list(set(word for sentence in tagged_sentences for word, _ in sentence)),\n",
        "             \"Emission Matrix\")\n",
        "\n",
        "print_matrix(normalized_transition_matrix, all_tags, all_tags, \"Transition Matrix\")\n",
        "def tag_sentence(sentence):\n",
        "    tags = []\n",
        "    previous_probabilities = defaultdict(float)\n",
        "    previous_probabilities['<s>'] = 1.0\n",
        "    previous_tag = '<s>'\n",
        "\n",
        "    for word in sentence:\n",
        "        current_probabilities = defaultdict(float)\n",
        "        best_tags = {}\n",
        "\n",
        "        for tag in normalized_emission_matrix.keys():\n",
        "            transition_prob = normalized_transition_matrix[previous_tag].get(tag, 0)\n",
        "            emission_prob = normalized_emission_matrix[tag].get(word, 0)\n",
        "            prob = transition_prob * emission_prob * previous_probabilities[previous_tag]\n",
        "            print(f\"prob of {word} and for {tag} = \", transition_prob ,\"*\", emission_prob ,\"*\", previous_probabilities[previous_tag])\n",
        "            print(f\"prob of {word} and for {tag} = \",transition_prob * emission_prob * previous_probabilities[previous_tag])\n",
        "\n",
        "            if prob > current_probabilities[tag]:\n",
        "                current_probabilities[tag] = prob\n",
        "                best_tags[tag] = previous_tag\n",
        "\n",
        "        best_tag = max(current_probabilities, key=current_probabilities.get)\n",
        "        tags.append(best_tag)\n",
        "\n",
        "        previous_probabilities[best_tag] = current_probabilities[best_tag]\n",
        "        previous_tag = best_tag\n",
        "\n",
        "    return tags\n",
        "\n",
        "sentence_to_tag = ['Justin', 'will', 'spot', 'Will']\n",
        "tagged_output = tag_sentence(sentence_to_tag)\n",
        "\n",
        "print(\"Sentence:\", \" \".join(sentence_to_tag))\n",
        "print(\"Tags:\", \" \".join(tagged_output))\n"
      ]
    },
    {
      "cell_type": "code",
      "execution_count": 7,
      "metadata": {
        "id": "jtzux3WeL9c1"
      },
      "outputs": [],
      "source": []
    }
  ],
  "metadata": {
    "colab": {
      "provenance": []
    },
    "kernelspec": {
      "display_name": "Python 3 (ipykernel)",
      "language": "python",
      "name": "python3"
    },
    "language_info": {
      "codemirror_mode": {
        "name": "ipython",
        "version": 3
      },
      "file_extension": ".py",
      "mimetype": "text/x-python",
      "name": "python",
      "nbconvert_exporter": "python",
      "pygments_lexer": "ipython3",
      "version": "3.11.1"
    }
  },
  "nbformat": 4,
  "nbformat_minor": 0
}
